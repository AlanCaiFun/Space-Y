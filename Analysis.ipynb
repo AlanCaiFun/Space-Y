{
    "cells": [
        {
            "cell_type": "code",
            "execution_count": 1,
            "metadata": {},
            "outputs": [],
            "source": "import pandas"
        },
        {
            "cell_type": "code",
            "execution_count": 2,
            "metadata": {},
            "outputs": [
                {
                    "name": "stderr",
                    "output_type": "stream",
                    "text": "/opt/conda/envs/Python-3.9/lib/python3.9/site-packages/IPython/core/interactiveshell.py:3444: DtypeWarning: Columns (5,7) have mixed types.Specify dtype option on import or set low_memory=False.\n  exec(code_obj, self.user_global_ns, self.user_ns)\n"
                },
                {
                    "data": {
                        "text/html": "<div>\n<style scoped>\n    .dataframe tbody tr th:only-of-type {\n        vertical-align: middle;\n    }\n\n    .dataframe tbody tr th {\n        vertical-align: top;\n    }\n\n    .dataframe thead th {\n        text-align: right;\n    }\n</style>\n<table border=\"1\" class=\"dataframe\">\n  <thead>\n    <tr style=\"text-align: right;\">\n      <th></th>\n      <th>ride_id</th>\n      <th>rideable_type</th>\n      <th>started_at</th>\n      <th>ended_at</th>\n      <th>start_station_name</th>\n      <th>start_station_id</th>\n      <th>end_station_name</th>\n      <th>end_station_id</th>\n      <th>start_lat</th>\n      <th>start_lng</th>\n      <th>end_lat</th>\n      <th>end_lng</th>\n      <th>member_casual</th>\n    </tr>\n  </thead>\n  <tbody>\n    <tr>\n      <th>0</th>\n      <td>353AEA9949A68D49</td>\n      <td>classic_bike</td>\n      <td>2021-10-16 12:27:00</td>\n      <td>2021-10-16 12:45:24</td>\n      <td>University Pl &amp; E 14 St</td>\n      <td>5905.14</td>\n      <td>Franklin St &amp; W Broadway</td>\n      <td>5430.08</td>\n      <td>40.734814</td>\n      <td>-73.992085</td>\n      <td>40.719116</td>\n      <td>-74.006667</td>\n      <td>casual</td>\n    </tr>\n    <tr>\n      <th>1</th>\n      <td>4E99F036F7FE3B62</td>\n      <td>classic_bike</td>\n      <td>2021-10-18 16:51:23</td>\n      <td>2021-10-18 17:19:29</td>\n      <td>Broadway &amp; Roebling St</td>\n      <td>5125.07</td>\n      <td>Sands St Gate</td>\n      <td>4812.04</td>\n      <td>40.709248</td>\n      <td>-73.960631</td>\n      <td>40.699569</td>\n      <td>-73.979827</td>\n      <td>casual</td>\n    </tr>\n    <tr>\n      <th>2</th>\n      <td>2CE9D0504402418A</td>\n      <td>classic_bike</td>\n      <td>2021-10-05 13:31:27</td>\n      <td>2021-10-05 13:47:07</td>\n      <td>University Pl &amp; E 14 St</td>\n      <td>5905.14</td>\n      <td>Franklin St &amp; W Broadway</td>\n      <td>5430.08</td>\n      <td>40.734814</td>\n      <td>-73.992085</td>\n      <td>40.719116</td>\n      <td>-74.006667</td>\n      <td>casual</td>\n    </tr>\n    <tr>\n      <th>3</th>\n      <td>354BB2C25D2FE2DB</td>\n      <td>classic_bike</td>\n      <td>2021-10-15 08:28:43</td>\n      <td>2021-10-15 08:36:37</td>\n      <td>University Pl &amp; E 14 St</td>\n      <td>5905.14</td>\n      <td>8 Ave &amp; W 16 St</td>\n      <td>6072.11</td>\n      <td>40.734814</td>\n      <td>-73.992085</td>\n      <td>40.740983</td>\n      <td>-74.001702</td>\n      <td>casual</td>\n    </tr>\n    <tr>\n      <th>4</th>\n      <td>0211ADD9F91AC315</td>\n      <td>classic_bike</td>\n      <td>2021-10-10 00:25:16</td>\n      <td>2021-10-10 01:04:26</td>\n      <td>Metropolitan Ave &amp; Meeker Ave</td>\n      <td>5300.05</td>\n      <td>Sands St Gate</td>\n      <td>4812.04</td>\n      <td>40.714133</td>\n      <td>-73.952344</td>\n      <td>40.699569</td>\n      <td>-73.979827</td>\n      <td>casual</td>\n    </tr>\n  </tbody>\n</table>\n</div>",
                        "text/plain": "            ride_id rideable_type           started_at             ended_at  \\\n0  353AEA9949A68D49  classic_bike  2021-10-16 12:27:00  2021-10-16 12:45:24   \n1  4E99F036F7FE3B62  classic_bike  2021-10-18 16:51:23  2021-10-18 17:19:29   \n2  2CE9D0504402418A  classic_bike  2021-10-05 13:31:27  2021-10-05 13:47:07   \n3  354BB2C25D2FE2DB  classic_bike  2021-10-15 08:28:43  2021-10-15 08:36:37   \n4  0211ADD9F91AC315  classic_bike  2021-10-10 00:25:16  2021-10-10 01:04:26   \n\n              start_station_name start_station_id          end_station_name  \\\n0        University Pl & E 14 St          5905.14  Franklin St & W Broadway   \n1         Broadway & Roebling St          5125.07             Sands St Gate   \n2        University Pl & E 14 St          5905.14  Franklin St & W Broadway   \n3        University Pl & E 14 St          5905.14           8 Ave & W 16 St   \n4  Metropolitan Ave & Meeker Ave          5300.05             Sands St Gate   \n\n  end_station_id  start_lat  start_lng    end_lat    end_lng member_casual  \n0        5430.08  40.734814 -73.992085  40.719116 -74.006667        casual  \n1        4812.04  40.709248 -73.960631  40.699569 -73.979827        casual  \n2        5430.08  40.734814 -73.992085  40.719116 -74.006667        casual  \n3        6072.11  40.734814 -73.992085  40.740983 -74.001702        casual  \n4        4812.04  40.714133 -73.952344  40.699569 -73.979827        casual  "
                    },
                    "execution_count": 2,
                    "metadata": {},
                    "output_type": "execute_result"
                }
            ],
            "source": "# The code was removed by Watson Studio for sharing."
        }
    ],
    "metadata": {
        "kernelspec": {
            "display_name": "Python 3.9",
            "language": "python",
            "name": "python3"
        },
        "language_info": {
            "codemirror_mode": {
                "name": "ipython",
                "version": 3
            },
            "file_extension": ".py",
            "mimetype": "text/x-python",
            "name": "python",
            "nbconvert_exporter": "python",
            "pygments_lexer": "ipython3",
            "version": "3.9.12"
        }
    },
    "nbformat": 4,
    "nbformat_minor": 1
}